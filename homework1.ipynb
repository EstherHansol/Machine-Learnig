{
  "nbformat": 4,
  "nbformat_minor": 0,
  "metadata": {
    "colab": {
      "name": "Untitled0.ipynb",
      "provenance": [],
      "collapsed_sections": []
    },
    "kernelspec": {
      "name": "python3",
      "display_name": "Python 3"
    },
    "language_info": {
      "name": "python"
    }
  },
  "cells": [
    {
      "cell_type": "code",
      "source": [
        "#학번이름 출력\n",
        "print(202010902) #학번\n",
        "print('이한솔')#이름"
      ],
      "metadata": {
        "colab": {
          "base_uri": "https://localhost:8080/"
        },
        "id": "UrlTAvzuMlnr",
        "outputId": "7e655d30-bc7d-46a2-dbcc-b7a62db5292d"
      },
      "execution_count": 7,
      "outputs": [
        {
          "output_type": "stream",
          "name": "stdout",
          "text": [
            "202010902\n",
            "이한솔\n"
          ]
        }
      ]
    },
    {
      "cell_type": "code",
      "source": [
        "#연산자 오버로딩 예시\n",
        "print(12+37) # +는 두 정수를 더하는 연산자\n",
        "print('python'+'is exciting')#+는 두 문자열을 접합하는 연산자\n"
      ],
      "metadata": {
        "colab": {
          "base_uri": "https://localhost:8080/"
        },
        "id": "752kkSg_Myyl",
        "outputId": "c2bc33bc-bede-4500-9eb3-f19012d95f70"
      },
      "execution_count": 8,
      "outputs": [
        {
          "output_type": "stream",
          "name": "stdout",
          "text": [
            "49\n",
            "pythonis exciting\n"
          ]
        }
      ]
    },
    {
      "cell_type": "code",
      "source": [
        "#라이브러리 불러오기\n",
        "import random #random 이라는 라이브러리를 불러옴\n",
        "\n",
        "#정수 난수 생성\n",
        "a= random.randint(10,20)\n",
        "b= random.randint(10,20)\n",
        "\n",
        "#덧셈을 하고 결과를 출력\n",
        "c=a+b\n",
        "print(a,b,c)"
      ],
      "metadata": {
        "colab": {
          "base_uri": "https://localhost:8080/"
        },
        "id": "iEKssqEEM-bl",
        "outputId": "c42b09b1-b2b3-437a-e377-f47ddb0989bf"
      },
      "execution_count": 12,
      "outputs": [
        {
          "output_type": "stream",
          "name": "stdout",
          "text": [
            "14 19 33\n"
          ]
        }
      ]
    },
    {
      "cell_type": "code",
      "source": [
        ""
      ],
      "metadata": {
        "id": "KO94v7o1NcBN"
      },
      "execution_count": null,
      "outputs": []
    }
  ]
}